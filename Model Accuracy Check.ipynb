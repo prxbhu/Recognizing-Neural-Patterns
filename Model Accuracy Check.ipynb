{
 "cells": [
  {
   "cell_type": "markdown",
   "id": "e76d3b00",
   "metadata": {},
   "source": [
    "# Checking Accuracy using different Optimizers"
   ]
  },
  {
   "cell_type": "markdown",
   "id": "57b33b4b",
   "metadata": {},
   "source": [
    "## Using Adam Optimizer"
   ]
  },
  {
   "cell_type": "code",
   "execution_count": 1,
   "id": "7de14d77",
   "metadata": {},
   "outputs": [
    {
     "name": "stdout",
     "output_type": "stream",
     "text": [
      "Epoch 1/5\n",
      "1875/1875 [==============================] - 1s 673us/step - loss: 0.4787 - accuracy: 0.8727\n",
      "Epoch 2/5\n",
      "1875/1875 [==============================] - 1s 604us/step - loss: 0.3041 - accuracy: 0.9153\n",
      "Epoch 3/5\n",
      "1875/1875 [==============================] - 1s 623us/step - loss: 0.2832 - accuracy: 0.9213\n",
      "Epoch 4/5\n",
      "1875/1875 [==============================] - 1s 621us/step - loss: 0.2730 - accuracy: 0.9239\n",
      "Epoch 5/5\n",
      "1875/1875 [==============================] - 1s 608us/step - loss: 0.2671 - accuracy: 0.9255\n",
      "313/313 [==============================] - 0s 582us/step - loss: 0.2672 - accuracy: 0.9260\n",
      "Test accuracy: 0.9259999990463257\n"
     ]
    }
   ],
   "source": [
    "import tensorflow as tf\n",
    "from tensorflow import keras\n",
    "\n",
    "# Load MNIST dataset\n",
    "mnist = keras.datasets.mnist\n",
    "(train_images, train_labels), (test_images, test_labels) = mnist.load_data()\n",
    "\n",
    "# Preprocess the data\n",
    "train_images = train_images / 255.0\n",
    "test_images = test_images / 255.0\n",
    "\n",
    "# Define the model architecture\n",
    "model = keras.Sequential([keras.layers.Flatten(input_shape=(28, 28)), keras.layers.Dense(10, activation='softmax')])\n",
    "\n",
    "# Compile the model\n",
    "model.compile(optimizer='adam', loss='sparse_categorical_crossentropy', metrics=['accuracy'])\n",
    "\n",
    "# Train the model\n",
    "model.fit(train_images, train_labels, epochs=5)\n",
    "\n",
    "# Evaluate the model\n",
    "test_loss, test_acc = model.evaluate(test_images, test_labels)\n",
    "print('Test accuracy:', test_acc)"
   ]
  },
  {
   "cell_type": "markdown",
   "id": "6e38b3c7",
   "metadata": {},
   "source": [
    "## Using Stochastic Gradient Descent Optimizer"
   ]
  },
  {
   "cell_type": "code",
   "execution_count": 2,
   "id": "64638666",
   "metadata": {},
   "outputs": [
    {
     "name": "stdout",
     "output_type": "stream",
     "text": [
      "Epoch 1/5\n",
      "1875/1875 [==============================] - 1s 613us/step - loss: 0.7804 - accuracy: 0.8150\n",
      "Epoch 2/5\n",
      "1875/1875 [==============================] - 1s 602us/step - loss: 0.4553 - accuracy: 0.8808\n",
      "Epoch 3/5\n",
      "1875/1875 [==============================] - 1s 605us/step - loss: 0.4027 - accuracy: 0.8910\n",
      "Epoch 4/5\n",
      "1875/1875 [==============================] - 1s 604us/step - loss: 0.3762 - accuracy: 0.8968\n",
      "Epoch 5/5\n",
      "1875/1875 [==============================] - 1s 619us/step - loss: 0.3597 - accuracy: 0.9010\n",
      "313/313 [==============================] - 0s 577us/step - loss: 0.3347 - accuracy: 0.9080\n",
      "Test accuracy: 0.9079999923706055\n"
     ]
    }
   ],
   "source": [
    "import tensorflow as tf\n",
    "from tensorflow import keras\n",
    "\n",
    "# Load MNIST dataset\n",
    "mnist = keras.datasets.mnist\n",
    "(train_images, train_labels), (test_images, test_labels) = mnist.load_data()\n",
    "\n",
    "# Preprocess the data\n",
    "train_images = train_images / 255.0\n",
    "test_images = test_images / 255.0\n",
    "\n",
    "# Define the model architecture\n",
    "model = keras.Sequential([keras.layers.Flatten(input_shape=(28, 28)),keras.layers.Dense(10, activation='softmax')])  \n",
    "\n",
    "# Compile the model\n",
    "model.compile(optimizer='sgd', loss='sparse_categorical_crossentropy', metrics=['accuracy'])\n",
    "\n",
    "# Train the model\n",
    "model.fit(train_images, train_labels, epochs=5)\n",
    "\n",
    "# Evaluate the model\n",
    "test_loss, test_acc = model.evaluate(test_images, test_labels)\n",
    "print('Test accuracy:', test_acc)\n"
   ]
  },
  {
   "cell_type": "markdown",
   "id": "60ce00bc",
   "metadata": {},
   "source": [
    "## Using Root Mean Squared Propagation Optimizer"
   ]
  },
  {
   "cell_type": "code",
   "execution_count": 3,
   "id": "7e58e916",
   "metadata": {},
   "outputs": [
    {
     "name": "stdout",
     "output_type": "stream",
     "text": [
      "Epoch 1/5\n",
      "1875/1875 [==============================] - 1s 630us/step - loss: 0.4394 - accuracy: 0.8820\n",
      "Epoch 2/5\n",
      "1875/1875 [==============================] - 1s 634us/step - loss: 0.3041 - accuracy: 0.9158\n",
      "Epoch 3/5\n",
      "1875/1875 [==============================] - 1s 620us/step - loss: 0.2905 - accuracy: 0.9202\n",
      "Epoch 4/5\n",
      "1875/1875 [==============================] - 1s 629us/step - loss: 0.2840 - accuracy: 0.9225\n",
      "Epoch 5/5\n",
      "1875/1875 [==============================] - 1s 614us/step - loss: 0.2803 - accuracy: 0.9244\n",
      "313/313 [==============================] - 0s 565us/step - loss: 0.2754 - accuracy: 0.9237\n",
      "Test accuracy: 0.9236999750137329\n"
     ]
    }
   ],
   "source": [
    "import tensorflow as tf\n",
    "from tensorflow import keras\n",
    "\n",
    "# Load MNIST dataset\n",
    "mnist = keras.datasets.mnist\n",
    "(train_images, train_labels), (test_images, test_labels) = mnist.load_data()\n",
    "\n",
    "# Preprocess the data\n",
    "train_images = train_images / 255.0\n",
    "test_images = test_images / 255.0\n",
    "\n",
    "# Define the model architecture\n",
    "model = keras.Sequential([keras.layers.Flatten(input_shape=(28, 28)),keras.layers.Dense(10, activation='softmax')])  \n",
    "\n",
    "# Compile the model\n",
    "model.compile(optimizer='RMSprop', loss='sparse_categorical_crossentropy', metrics=['accuracy'])\n",
    "\n",
    "# Train the model\n",
    "model.fit(train_images, train_labels, epochs=5)\n",
    "\n",
    "# Evaluate the model\n",
    "test_loss, test_acc = model.evaluate(test_images, test_labels)\n",
    "print('Test accuracy:', test_acc)\n"
   ]
  },
  {
   "cell_type": "markdown",
   "id": "e09cdaf6",
   "metadata": {},
   "source": [
    "# Checking Accuracy using different Activation Functions"
   ]
  },
  {
   "cell_type": "markdown",
   "id": "1b059a58",
   "metadata": {},
   "source": [
    "## Using Relu Activation"
   ]
  },
  {
   "cell_type": "code",
   "execution_count": 4,
   "id": "eec351c0",
   "metadata": {},
   "outputs": [
    {
     "name": "stdout",
     "output_type": "stream",
     "text": [
      "Epoch 1/5\n",
      "1875/1875 [==============================] - 10s 5ms/step - loss: 0.1909 - accuracy: 0.9465\n",
      "Epoch 2/5\n",
      "1875/1875 [==============================] - 10s 5ms/step - loss: 0.0709 - accuracy: 0.9795\n",
      "Epoch 3/5\n",
      "1875/1875 [==============================] - 11s 6ms/step - loss: 0.0514 - accuracy: 0.9849\n",
      "Epoch 4/5\n",
      "1875/1875 [==============================] - 10s 5ms/step - loss: 0.0412 - accuracy: 0.9876\n",
      "Epoch 5/5\n",
      "1875/1875 [==============================] - 10s 6ms/step - loss: 0.0342 - accuracy: 0.9898\n",
      "313/313 [==============================] - 1s 3ms/step - loss: 0.0472 - accuracy: 0.9847\n",
      "Test accuracy: 0.9847000241279602\n"
     ]
    }
   ],
   "source": [
    "import tensorflow as tf\n",
    "from tensorflow import keras\n",
    "\n",
    "# Load MNIST dataset\n",
    "mnist = keras.datasets.mnist\n",
    "(train_images, train_labels), (test_images, test_labels) = mnist.load_data()\n",
    "\n",
    "# Preprocess the data\n",
    "train_images = train_images.reshape(-1, 28, 28, 1) / 255.0\n",
    "test_images = test_images.reshape(-1, 28, 28, 1) / 255.0\n",
    "train_labels = keras.utils.to_categorical(train_labels, num_classes=10)\n",
    "test_labels = keras.utils.to_categorical(test_labels, num_classes=10)\n",
    "\n",
    "# Define the model architecture\n",
    "input_shape = (28, 28, 1)\n",
    "inputs = keras.Input(shape=input_shape)\n",
    "\n",
    "# First branch with dilated convolution\n",
    "branch_1 = keras.layers.Conv2D(16, (3, 3), activation='relu', padding='same', dilation_rate=1)(inputs)\n",
    "branch_1 = keras.layers.MaxPooling2D((2, 2))(branch_1)\n",
    "branch_1 = keras.layers.Flatten()(branch_1)\n",
    "\n",
    "# Second branch with larger dilation rate\n",
    "branch_2 = keras.layers.Conv2D(16, (3, 3), activation='relu', padding='same', dilation_rate=2)(inputs)\n",
    "branch_2 = keras.layers.MaxPooling2D((2, 2))(branch_2)\n",
    "branch_2 = keras.layers.Flatten()(branch_2)\n",
    "\n",
    "# Merge the branches\n",
    "merged = keras.layers.Concatenate()([branch_1, branch_2])\n",
    "\n",
    "# Output layer with softmax activation\n",
    "outputs = keras.layers.Dense(10, activation='softmax')(merged)\n",
    "\n",
    "# Create the model\n",
    "model = keras.Model(inputs=inputs, outputs=outputs)\n",
    "\n",
    "# Compile the model\n",
    "model.compile(optimizer='adam',\n",
    "              loss='categorical_crossentropy',\n",
    "              metrics=['accuracy'])\n",
    "\n",
    "# Train the model\n",
    "model.fit(train_images, train_labels, epochs=5, batch_size=32)\n",
    "\n",
    "# Evaluate the model\n",
    "test_loss, test_acc = model.evaluate(test_images, test_labels)\n",
    "print('Test accuracy:', test_acc)\n"
   ]
  },
  {
   "cell_type": "markdown",
   "id": "5c6bc384",
   "metadata": {},
   "source": [
    "## Using Sigmoid Activation"
   ]
  },
  {
   "cell_type": "code",
   "execution_count": 5,
   "id": "15bb4ca2",
   "metadata": {},
   "outputs": [
    {
     "name": "stdout",
     "output_type": "stream",
     "text": [
      "Epoch 1/5\n",
      "1875/1875 [==============================] - 10s 5ms/step - loss: 1.1583 - accuracy: 0.8191\n",
      "Epoch 2/5\n",
      "1875/1875 [==============================] - 10s 6ms/step - loss: 0.1653 - accuracy: 0.9499\n",
      "Epoch 3/5\n",
      "1875/1875 [==============================] - 11s 6ms/step - loss: 0.0954 - accuracy: 0.9702\n",
      "Epoch 4/5\n",
      "1875/1875 [==============================] - 11s 6ms/step - loss: 0.0774 - accuracy: 0.9761\n",
      "Epoch 5/5\n",
      "1875/1875 [==============================] - 10s 5ms/step - loss: 0.0673 - accuracy: 0.9794\n",
      "313/313 [==============================] - 1s 3ms/step - loss: 0.0792 - accuracy: 0.9749\n",
      "Test accuracy: 0.9749000072479248\n"
     ]
    }
   ],
   "source": [
    "import tensorflow as tf\n",
    "from tensorflow import keras\n",
    "\n",
    "# Load MNIST dataset\n",
    "mnist = keras.datasets.mnist\n",
    "(train_images, train_labels), (test_images, test_labels) = mnist.load_data()\n",
    "\n",
    "# Preprocess the data\n",
    "train_images = train_images.reshape(-1, 28, 28, 1) / 255.0\n",
    "test_images = test_images.reshape(-1, 28, 28, 1) / 255.0\n",
    "train_labels = keras.utils.to_categorical(train_labels, num_classes=10)\n",
    "test_labels = keras.utils.to_categorical(test_labels, num_classes=10)\n",
    "\n",
    "# Define the model architecture\n",
    "input_shape = (28, 28, 1)\n",
    "inputs = keras.Input(shape=input_shape)\n",
    "\n",
    "# First branch with dilated convolution\n",
    "branch_1 = keras.layers.Conv2D(16, (3, 3), activation='sigmoid', padding='same', dilation_rate=1)(inputs)\n",
    "branch_1 = keras.layers.MaxPooling2D((2, 2))(branch_1)\n",
    "branch_1 = keras.layers.Flatten()(branch_1)\n",
    "\n",
    "# Second branch with larger dilation rate\n",
    "branch_2 = keras.layers.Conv2D(16, (3, 3), activation='sigmoid', padding='same', dilation_rate=2)(inputs)\n",
    "branch_2 = keras.layers.MaxPooling2D((2, 2))(branch_2)\n",
    "branch_2 = keras.layers.Flatten()(branch_2)\n",
    "\n",
    "# Merge the branches\n",
    "merged = keras.layers.Concatenate()([branch_1, branch_2])\n",
    "\n",
    "# Output layer with sigmoid activation\n",
    "outputs = keras.layers.Dense(10, activation='sigmoid')(merged)\n",
    "\n",
    "# Create the model\n",
    "model = keras.Model(inputs=inputs, outputs=outputs)\n",
    "\n",
    "# Compile the model with a higher learning rate\n",
    "model.compile(optimizer=keras.optimizers.Adam(learning_rate=0.01),\n",
    "              loss='categorical_crossentropy',\n",
    "              metrics=['accuracy'])\n",
    "\n",
    "# Train the model\n",
    "model.fit(train_images, train_labels, epochs=5, batch_size=32)\n",
    "\n",
    "# Evaluate the model\n",
    "test_loss, test_acc = model.evaluate(test_images, test_labels)\n",
    "print('Test accuracy:', test_acc)\n"
   ]
  },
  {
   "cell_type": "markdown",
   "id": "8ee0d0b9",
   "metadata": {},
   "source": [
    "## Using Softmax Activation"
   ]
  },
  {
   "cell_type": "code",
   "execution_count": 6,
   "id": "22b0c10a",
   "metadata": {},
   "outputs": [
    {
     "name": "stdout",
     "output_type": "stream",
     "text": [
      "Epoch 1/5\n",
      "1875/1875 [==============================] - 13s 7ms/step - loss: 0.3112 - accuracy: 0.9174\n",
      "Epoch 2/5\n",
      "1875/1875 [==============================] - 13s 7ms/step - loss: 0.1936 - accuracy: 0.9650\n",
      "Epoch 3/5\n",
      "1875/1875 [==============================] - 13s 7ms/step - loss: 0.1860 - accuracy: 0.9712\n",
      "Epoch 4/5\n",
      "1875/1875 [==============================] - 12s 7ms/step - loss: 0.1629 - accuracy: 0.9761\n",
      "Epoch 5/5\n",
      "1875/1875 [==============================] - 13s 7ms/step - loss: 0.1588 - accuracy: 0.9785\n",
      "313/313 [==============================] - 1s 3ms/step - loss: 0.1537 - accuracy: 0.9813\n",
      "Test accuracy: 0.9812999963760376\n"
     ]
    }
   ],
   "source": [
    "import tensorflow as tf\n",
    "from tensorflow import keras\n",
    "\n",
    "# Load MNIST dataset\n",
    "mnist = keras.datasets.mnist\n",
    "(train_images, train_labels), (test_images, test_labels) = mnist.load_data()\n",
    "\n",
    "# Preprocess the data\n",
    "train_images = train_images.reshape(-1, 28, 28, 1) / 255.0\n",
    "test_images = test_images.reshape(-1, 28, 28, 1) / 255.0\n",
    "train_labels = keras.utils.to_categorical(train_labels, num_classes=10)\n",
    "test_labels = keras.utils.to_categorical(test_labels, num_classes=10)\n",
    "\n",
    "# Define the model architecture\n",
    "input_shape = (28, 28, 1)\n",
    "inputs = keras.Input(shape=input_shape)\n",
    "\n",
    "# First branch with dilated convolution\n",
    "branch_1 = keras.layers.Conv2D(16, (3, 3), activation='softmax', padding='same', dilation_rate=1)(inputs)\n",
    "branch_1 = keras.layers.MaxPooling2D((2, 2))(branch_1)\n",
    "branch_1 = keras.layers.Flatten()(branch_1)\n",
    "\n",
    "# Second branch with larger dilation rate\n",
    "branch_2 = keras.layers.Conv2D(16, (3, 3), activation='softmax', padding='same', dilation_rate=2)(inputs)\n",
    "branch_2 = keras.layers.MaxPooling2D((2, 2))(branch_2)\n",
    "branch_2 = keras.layers.Flatten()(branch_2)\n",
    "\n",
    "# Merge the branches\n",
    "merged = keras.layers.Concatenate()([branch_1, branch_2])\n",
    "\n",
    "# Output layer with sigmoid activation\n",
    "outputs = keras.layers.Dense(10, activation='softmax')(merged)\n",
    "\n",
    "# Create the model\n",
    "model = keras.Model(inputs=inputs, outputs=outputs)\n",
    "\n",
    "# Compile the model with a higher learning rate\n",
    "model.compile(optimizer=keras.optimizers.Adam(learning_rate=0.01),\n",
    "              loss='categorical_crossentropy',\n",
    "              metrics=['accuracy'])\n",
    "\n",
    "# Train the model\n",
    "model.fit(train_images, train_labels, epochs=5, batch_size=32)\n",
    "\n",
    "# Evaluate the model\n",
    "test_loss, test_acc = model.evaluate(test_images, test_labels)\n",
    "print('Test accuracy:', test_acc)\n"
   ]
  },
  {
   "cell_type": "code",
   "execution_count": null,
   "id": "7f5e809c",
   "metadata": {},
   "outputs": [],
   "source": []
  }
 ],
 "metadata": {
  "kernelspec": {
   "display_name": "Python 3 (ipykernel)",
   "language": "python",
   "name": "python3"
  },
  "language_info": {
   "codemirror_mode": {
    "name": "ipython",
    "version": 3
   },
   "file_extension": ".py",
   "mimetype": "text/x-python",
   "name": "python",
   "nbconvert_exporter": "python",
   "pygments_lexer": "ipython3",
   "version": "3.9.13"
  }
 },
 "nbformat": 4,
 "nbformat_minor": 5
}
