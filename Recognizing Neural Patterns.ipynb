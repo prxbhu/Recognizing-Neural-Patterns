{
 "cells": [
  {
   "cell_type": "code",
   "execution_count": 1,
   "id": "c07b683f",
   "metadata": {},
   "outputs": [
    {
     "name": "stdout",
     "output_type": "stream",
     "text": [
      "Epoch 1/10\n",
      "1875/1875 [==============================] - 42s 22ms/step - loss: 0.1315 - accuracy: 0.9603 - val_loss: 0.0607 - val_accuracy: 0.9830\n",
      "Epoch 2/10\n",
      "1875/1875 [==============================] - 42s 22ms/step - loss: 0.0474 - accuracy: 0.9857 - val_loss: 0.0550 - val_accuracy: 0.9824\n",
      "Epoch 3/10\n",
      "1875/1875 [==============================] - 43s 23ms/step - loss: 0.0272 - accuracy: 0.9913 - val_loss: 0.0487 - val_accuracy: 0.9846\n",
      "Epoch 4/10\n",
      "1875/1875 [==============================] - 43s 23ms/step - loss: 0.0175 - accuracy: 0.9946 - val_loss: 0.0508 - val_accuracy: 0.9845\n",
      "Epoch 5/10\n",
      "1875/1875 [==============================] - 43s 23ms/step - loss: 0.0114 - accuracy: 0.9966 - val_loss: 0.0555 - val_accuracy: 0.9838\n",
      "Epoch 6/10\n",
      "1875/1875 [==============================] - 42s 22ms/step - loss: 0.0070 - accuracy: 0.9978 - val_loss: 0.0720 - val_accuracy: 0.9814\n",
      "Epoch 7/10\n",
      "1875/1875 [==============================] - 42s 22ms/step - loss: 0.0058 - accuracy: 0.9981 - val_loss: 0.0647 - val_accuracy: 0.9843\n",
      "Epoch 8/10\n",
      "1875/1875 [==============================] - 42s 22ms/step - loss: 0.0047 - accuracy: 0.9985 - val_loss: 0.0698 - val_accuracy: 0.9844\n",
      "Epoch 9/10\n",
      "1875/1875 [==============================] - 43s 23ms/step - loss: 0.0030 - accuracy: 0.9991 - val_loss: 0.0692 - val_accuracy: 0.9846\n",
      "Epoch 10/10\n",
      "1875/1875 [==============================] - 43s 23ms/step - loss: 0.0032 - accuracy: 0.9989 - val_loss: 0.0773 - val_accuracy: 0.9845\n",
      "313/313 - 2s - loss: 0.0773 - accuracy: 0.9845 - 2s/epoch - 7ms/step\n",
      "Test accuracy: 0.984499990940094\n"
     ]
    }
   ],
   "source": [
    "import tensorflow as tf\n",
    "from tensorflow.keras.datasets import mnist\n",
    "from tensorflow.keras.utils import to_categorical\n",
    "from tensorflow.keras.layers import Input, Conv2D, Concatenate, Flatten, Dense\n",
    "from tensorflow.keras.models import Model\n",
    "\n",
    "# Load the MNIST dataset\n",
    "(X_train, y_train), (X_test, y_test) = mnist.load_data()\n",
    "\n",
    "# Preprocess the data\n",
    "X_train = X_train.reshape(X_train.shape[0], 28, 28, 1).astype('float32') / 255.0\n",
    "X_test = X_test.reshape(X_test.shape[0], 28, 28, 1).astype('float32') / 255.0\n",
    "y_train = to_categorical(y_train)\n",
    "y_test = to_categorical(y_test)\n",
    "\n",
    "# Define input shape\n",
    "input_shape = (28, 28, 1)\n",
    "\n",
    "# Define input layer\n",
    "inputs = Input(shape=input_shape)\n",
    "\n",
    "# Define parallel branches\n",
    "branch1 = Conv2D(filters=32, kernel_size=3, dilation_rate=1, padding='same', activation='relu')(inputs)\n",
    "branch2 = Conv2D(filters=32, kernel_size=3, dilation_rate=2, padding='same', activation='relu')(inputs)\n",
    "branch3 = Conv2D(filters=32, kernel_size=3, dilation_rate=4, padding='same', activation='relu')(inputs)\n",
    "\n",
    "# Concatenate the parallel branches\n",
    "concat = Concatenate()([branch1, branch2, branch3])\n",
    "\n",
    "# Flatten the concatenated features\n",
    "flatten = Flatten()(concat)\n",
    "\n",
    "# Add a dense layer for classification\n",
    "outputs = Dense(units=10, activation='softmax')(flatten)\n",
    "\n",
    "# Define the model\n",
    "model = Model(inputs=inputs, outputs=outputs)\n",
    "\n",
    "# Compile the model\n",
    "model.compile(optimizer='adam', loss='categorical_crossentropy', metrics=['accuracy'])\n",
    "\n",
    "# Train the model\n",
    "history = model.fit(X_train, y_train, epochs=10, batch_size=32, validation_data=(X_test, y_test))\n",
    "\n",
    "# Evaluate the model on test data\n",
    "test_loss, test_acc = model.evaluate(X_test, y_test, verbose=2)\n",
    "print('Test accuracy:', test_acc)\n"
   ]
  },
  {
   "cell_type": "code",
   "execution_count": 2,
   "id": "00daeafa",
   "metadata": {},
   "outputs": [],
   "source": [
    "import numpy as np\n",
    "\n",
    "num_images = 5\n",
    "random_indices = np.random.randint(0, len(X_test), num_images)\n",
    "images = X_test[random_indices]\n",
    "labels = y_test[random_indices]"
   ]
  },
  {
   "cell_type": "code",
   "execution_count": 3,
   "id": "d349d760",
   "metadata": {},
   "outputs": [
    {
     "name": "stdout",
     "output_type": "stream",
     "text": [
      "1/1 [==============================] - 0s 69ms/step\n"
     ]
    }
   ],
   "source": [
    "predictions = model.predict(images)\n",
    "predicted_labels = np.argmax(predictions, axis=1)"
   ]
  },
  {
   "cell_type": "code",
   "execution_count": 4,
   "id": "0df63b33",
   "metadata": {},
   "outputs": [
    {
     "data": {
      "image/png": "[encoded data removed]",
      "text/plain": [
       "<Figure size 1500x300 with 5 Axes>"
      ]
     },
     "metadata": {},
     "output_type": "display_data"
    }
   ],
   "source": [
    "import matplotlib.pyplot as plt\n",
    "fig, axes = plt.subplots(1, num_images, figsize=(15, 3))\n",
    "\n",
    "for i in range(num_images):\n",
    "    axes[i].imshow(images[i].reshape(28, 28), cmap='gray')\n",
    "    axes[i].set_title(f'True: {np.argmax(labels[i])}, Predicted: {predicted_labels[i]}')\n",
    "    axes[i].axis('off')\n",
    "\n",
    "plt.show()"
   ]
  },
  {
   "cell_type": "code",
   "execution_count": 5,
   "id": "b92e9214",
   "metadata": {},
   "outputs": [
    {
     "name": "stdout",
     "output_type": "stream",
     "text": [
      "Model: \"model\"\n",
      "__________________________________________________________________________________________________\n",
      " Layer (type)                   Output Shape         Param #     Connected to                     \n",
      "==================================================================================================\n",
      " input_1 (InputLayer)           [(None, 28, 28, 1)]  0           []                               \n",
      "                                                                                                  \n",
      " conv2d (Conv2D)                (None, 28, 28, 32)   320         ['input_1[0][0]']                \n",
      "                                                                                                  \n",
      " conv2d_1 (Conv2D)              (None, 28, 28, 32)   320         ['input_1[0][0]']                \n",
      "                                                                                                  \n",
      " conv2d_2 (Conv2D)              (None, 28, 28, 32)   320         ['input_1[0][0]']                \n",
      "                                                                                                  \n",
      " concatenate (Concatenate)      (None, 28, 28, 96)   0           ['conv2d[0][0]',                 \n",
      "                                                                  'conv2d_1[0][0]',               \n",
      "                                                                  'conv2d_2[0][0]']               \n",
      "                                                                                                  \n",
      " flatten (Flatten)              (None, 75264)        0           ['concatenate[0][0]']            \n",
      "                                                                                                  \n",
      " dense (Dense)                  (None, 10)           752650      ['flatten[0][0]']                \n",
      "                                                                                                  \n",
      "==================================================================================================\n",
      "Total params: 753,610\n",
      "Trainable params: 753,610\n",
      "Non-trainable params: 0\n",
      "__________________________________________________________________________________________________\n"
     ]
    }
   ],
   "source": [
    "model.summary()"
   ]
  },
  {
   "cell_type": "code",
   "execution_count": 6,
   "id": "340c0e6b",
   "metadata": {},
   "outputs": [],
   "source": [
    "model.save(\"model4.h5\")"
   ]
  },
  {
   "cell_type": "code",
   "execution_count": 7,
   "id": "51850888",
   "metadata": {},
   "outputs": [],
   "source": [
    "from keras import applications\n",
    "import onnx\n",
    "from tensorflow.python.keras.models import load_model"
   ]
  },
  {
   "cell_type": "code",
   "execution_count": 8,
   "id": "145cb8b8",
   "metadata": {},
   "outputs": [
    {
     "name": "stderr",
     "output_type": "stream",
     "text": [
      "WARNING:absl:Found untraced functions such as _jit_compiled_convolution_op, _jit_compiled_convolution_op, _jit_compiled_convolution_op, _update_step_xla while saving (showing 4 of 4). These functions will not be directly callable after loading.\n"
     ]
    },
    {
     "name": "stdout",
     "output_type": "stream",
     "text": [
      "INFO:tensorflow:Assets written to: tmp_model\\assets\n"
     ]
    },
    {
     "name": "stderr",
     "output_type": "stream",
     "text": [
      "INFO:tensorflow:Assets written to: tmp_model\\assets\n"
     ]
    }
   ],
   "source": [
    "import tensorflow as tf\n",
    "model = tf.keras.models.load_model(\"model4.h5\")\n",
    "tf.saved_model.save(model, \"tmp_model\")"
   ]
  },
  {
   "cell_type": "code",
   "execution_count": 9,
   "id": "37253d05",
   "metadata": {},
   "outputs": [
    {
     "name": "stderr",
     "output_type": "stream",
     "text": [
      "C:\\Users\\prabh\\anaconda3\\lib\\runpy.py:127: RuntimeWarning: 'tf2onnx.convert' found in sys.modules after import of package 'tf2onnx', but prior to execution of 'tf2onnx.convert'; this may result in unpredictable behaviour\n",
      "  warn(RuntimeWarning(msg))\n",
      "2023-06-25 13:51:21,781 - WARNING - '--tag' not specified for saved_model. Using --tag serve\n",
      "2023-06-25 13:51:22,013 - INFO - Signatures found in model: [serving_default].\n",
      "2023-06-25 13:51:22,013 - WARNING - '--signature_def' not specified, using first signature: serving_default\n",
      "2023-06-25 13:51:22,013 - INFO - Output names: ['dense']\n",
      "2023-06-25 13:51:22,146 - INFO - Using tensorflow=2.12.0, onnx=1.13.1, tf2onnx=1.13.0/2c1db5\n",
      "2023-06-25 13:51:22,146 - INFO - Using opset <onnx, 13>\n",
      "2023-06-25 13:51:22,172 - INFO - Computed 0 values for constant folding\n",
      "2023-06-25 13:51:22,201 - INFO - Optimizing ONNX model\n",
      "2023-06-25 13:51:22,283 - INFO - After optimization: Cast -1 (1->0), Identity -2 (2->0), Reshape +1 (1->2), Transpose -5 (6->1)\n",
      "2023-06-25 13:51:22,292 - INFO - \n",
      "2023-06-25 13:51:22,292 - INFO - Successfully converted TensorFlow model tmp_model to ONNX\n",
      "2023-06-25 13:51:22,292 - INFO - Model inputs: ['input_1']\n",
      "2023-06-25 13:51:22,292 - INFO - Model outputs: ['dense']\n",
      "2023-06-25 13:51:22,292 - INFO - ONNX model is saved at model4.onnx\n"
     ]
    }
   ],
   "source": [
    "!python -m tf2onnx.convert --saved-model tmp_model --output \"model4.onnx\""
   ]
  },
  {
   "cell_type": "code",
   "execution_count": 10,
   "id": "9ba284db",
   "metadata": {},
   "outputs": [],
   "source": [
    "import netron"
   ]
  },
  {
   "cell_type": "code",
   "execution_count": 11,
   "id": "747fc437",
   "metadata": {},
   "outputs": [
    {
     "name": "stdout",
     "output_type": "stream",
     "text": [
      "Serving 'model4.onnx' at http://localhost:8080\n"
     ]
    },
    {
     "data": {
      "text/plain": [
       "('localhost', 8080)"
      ]
     },
     "execution_count": 11,
     "metadata": {},
     "output_type": "execute_result"
    }
   ],
   "source": [
    "netron.start(\"model4.onnx\")"
   ]
  },
  {
   "cell_type": "code",
   "execution_count": null,
   "id": "042ef7ad",
   "metadata": {},
   "outputs": [],
   "source": []
  }
 ],
 "metadata": {
  "kernelspec": {
   "display_name": "Python 3 (ipykernel)",
   "language": "python",
   "name": "python3"
  },
  "language_info": {
   "codemirror_mode": {
    "name": "ipython",
    "version": 3
   },
   "file_extension": ".py",
   "mimetype": "text/x-python",
   "name": "python",
   "nbconvert_exporter": "python",
   "pygments_lexer": "ipython3",
   "version": "3.9.13"
  }
 },
 "nbformat": 4,
 "nbformat_minor": 5
}
